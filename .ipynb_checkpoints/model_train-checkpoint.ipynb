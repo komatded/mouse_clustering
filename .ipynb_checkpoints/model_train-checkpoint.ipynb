{
 "cells": [
  {
   "cell_type": "code",
   "execution_count": 2,
   "metadata": {},
   "outputs": [
    {
     "name": "stdout",
     "output_type": "stream",
     "text": [
      "Successfully installed Keras-2.4.3 absl-py-0.11.0 astunparse-1.6.3 flatbuffers-1.12 gast-0.3.3 google-auth-oauthlib-0.4.2 google-pasta-0.2.0 grpcio-1.32.0 h5py-2.10.0 keras-preprocessing-1.1.2 numpy-1.19.5 opt-einsum-3.3.0 protobuf-3.14.0 six-1.15.0 sklearn-0.0 tensorboard-2.4.0 tensorboard-plugin-wit-1.7.0 tensorflow-estimator-2.4.0 tensorflow-gpu-2.4.0 wheel-0.36.2 wrapt-1.12.1\n"
     ]
    }
   ],
   "source": [
    "!pip install -r requirements.txt"
   ]
  },
  {
   "cell_type": "code",
   "execution_count": 3,
   "metadata": {},
   "outputs": [
    {
     "name": "stdout",
     "output_type": "stream",
     "text": [
      "Sat Jan  9 17:49:38 2021       \n",
      "+-----------------------------------------------------------------------------+\n",
      "| NVIDIA-SMI 418.87.00    Driver Version: 418.87.00    CUDA Version: 10.1     |\n",
      "|-------------------------------+----------------------+----------------------+\n",
      "| GPU  Name        Persistence-M| Bus-Id        Disp.A | Volatile Uncorr. ECC |\n",
      "| Fan  Temp  Perf  Pwr:Usage/Cap|         Memory-Usage | GPU-Util  Compute M. |\n",
      "|===============================+======================+======================|\n",
      "|   0  Tesla M60           On   | 00000000:00:1E.0 Off |                    0 |\n",
      "| N/A   36C    P8    22W / 150W |      0MiB /  7618MiB |      0%      Default |\n",
      "+-------------------------------+----------------------+----------------------+\n",
      "                                                                               \n",
      "+-----------------------------------------------------------------------------+\n",
      "| Processes:                                                       GPU Memory |\n",
      "|  GPU       PID   Type   Process name                             Usage      |\n",
      "|=============================================================================|\n",
      "|  No running processes found                                                 |\n",
      "+-----------------------------------------------------------------------------+\n"
     ]
    }
   ],
   "source": [
    "!nvidia-smi"
   ]
  },
  {
   "cell_type": "code",
   "execution_count": 4,
   "metadata": {},
   "outputs": [
    {
     "name": "stdout",
     "output_type": "stream",
     "text": [
      "[PhysicalDevice(name='/physical_device:CPU:0', device_type='CPU')]\n"
     ]
    }
   ],
   "source": [
    "from sklearn.model_selection import train_test_split\n",
    "from data_generator import TripletGenerator\n",
    "from model import create_model\n",
    "import tensorflow as tf\n",
    "import pandas as pd\n",
    "import random\n",
    "print(tf.config.list_physical_devices())"
   ]
  },
  {
   "cell_type": "code",
   "execution_count": 5,
   "metadata": {},
   "outputs": [],
   "source": [
    "# Training configs\n",
    "MIN_MOUSE_TRACK_LEN = 100\n",
    "N_USERS_TO_TRAIN = 100\n",
    "EMBEDDING_SIZE = 128\n",
    "PAD_SIZE = 200\n",
    "POSITIVES_PER_ANCHOR = 10\n",
    "NEGATIVES_PER_ANCHOR = 10\n",
    "TRAIN_EPOCHS = 5\n",
    "DROP_TIME_LINE = False"
   ]
  },
  {
   "cell_type": "code",
   "execution_count": 4,
   "metadata": {},
   "outputs": [
    {
     "data": {
      "text/plain": [
       "(6447, 3)"
      ]
     },
     "execution_count": 4,
     "metadata": {},
     "output_type": "execute_result"
    }
   ],
   "source": [
    "# Load data\n",
    "df = pd.read_pickle('./sw_139_data.pickle')\n",
    "df = df[df.mouse_track.apply(len) >= MIN_MOUSE_TRACK_LEN]\n",
    "\n",
    "# Filter users to train on\n",
    "cookies = df.cookie.value_counts()\n",
    "random.seed(420)\n",
    "cookies = random.sample(list(cookies[cookies >= POSITIVES_PER_ANCHOR].keys()), k=N_USERS_TO_TRAIN)\n",
    "\n",
    "# Dataset split\n",
    "df = df[df.cookie.isin(cookies)]\n",
    "train_df, test_df = train_test_split(df, test_size=0.2, random_state=420)\n",
    "train_df.shape[0], test_df.shape[0]"
   ]
  },
  {
   "cell_type": "code",
   "execution_count": 6,
   "metadata": {},
   "outputs": [],
   "source": [
    "# Data generators\n",
    "TG = TripletGenerator(pad_size=PAD_SIZE,\n",
    "                      positives_per_anchor=POSITIVES_PER_ANCHOR,\n",
    "                      negatives_per_anchor=NEGATIVES_PER_ANCHOR,\n",
    "                      drop_time_line=DROP_TIME_LINE)\n",
    "train_triplet_generator, train_n_batches = TG.create_data_generator(train_df, batch_size=32)\n",
    "test_triplet_generator, test_n_batches = TG.create_data_generator(test_df, batch_size=32)"
   ]
  },
  {
   "cell_type": "code",
   "execution_count": 7,
   "metadata": {},
   "outputs": [
    {
     "name": "stdout",
     "output_type": "stream",
     "text": [
      "Model: \"model_1\"\n",
      "__________________________________________________________________________________________________\n",
      "Layer (type)                    Output Shape         Param #     Connected to                     \n",
      "==================================================================================================\n",
      "input_anchor (InputLayer)       [(None, 200, 3)]     0                                            \n",
      "__________________________________________________________________________________________________\n",
      "input_positive (InputLayer)     [(None, 200, 3)]     0                                            \n",
      "__________________________________________________________________________________________________\n",
      "input_negative (InputLayer)     [(None, 200, 3)]     0                                            \n",
      "__________________________________________________________________________________________________\n",
      "model (Functional)              (None, 128)          25728       input_anchor[0][0]               \n",
      "                                                                 input_positive[0][0]             \n",
      "                                                                 input_negative[0][0]             \n",
      "__________________________________________________________________________________________________\n",
      "tf.math.multiply (TFOpLambda)   (None, 128)          0           model[0][0]                      \n",
      "                                                                 model[1][0]                      \n",
      "__________________________________________________________________________________________________\n",
      "tf.math.multiply_1 (TFOpLambda) (None, 128)          0           model[0][0]                      \n",
      "                                                                 model[2][0]                      \n",
      "__________________________________________________________________________________________________\n",
      "tf.math.reduce_sum (TFOpLambda) (None, 1)            0           tf.math.multiply[0][0]           \n",
      "__________________________________________________________________________________________________\n",
      "tf.math.reduce_sum_1 (TFOpLambd (None, 1)            0           tf.math.multiply_1[0][0]         \n",
      "__________________________________________________________________________________________________\n",
      "tf.math.subtract (TFOpLambda)   (None, 1)            0           tf.math.reduce_sum[0][0]         \n",
      "                                                                 tf.math.reduce_sum_1[0][0]       \n",
      "__________________________________________________________________________________________________\n",
      "tf.math.sigmoid (TFOpLambda)    (None, 1)            0           tf.math.subtract[0][0]           \n",
      "__________________________________________________________________________________________________\n",
      "tf.math.subtract_1 (TFOpLambda) (None, 1)            0           tf.math.sigmoid[0][0]            \n",
      "==================================================================================================\n",
      "Total params: 25,728\n",
      "Trainable params: 25,728\n",
      "Non-trainable params: 0\n",
      "__________________________________________________________________________________________________\n"
     ]
    }
   ],
   "source": [
    "# Model training\n",
    "model = create_model(input_shape=(PAD_SIZE, 3 - DROP_TIME_LINE), embedding_size=EMBEDDING_SIZE)\n",
    "model.layers[3].summary()"
   ]
  },
  {
   "cell_type": "code",
   "execution_count": 8,
   "metadata": {},
   "outputs": [
    {
     "name": "stdout",
     "output_type": "stream",
     "text": [
      "Model: \"model\"\n",
      "_________________________________________________________________\n",
      "Layer (type)                 Output Shape              Param #   \n",
      "=================================================================\n",
      "input_1 (InputLayer)         [(None, 200, 3)]          0         \n",
      "_________________________________________________________________\n",
      "lstm (LSTM)                  (None, 64)                17408     \n",
      "_________________________________________________________________\n",
      "dense (Dense)                (None, 128)               8320      \n",
      "=================================================================\n",
      "Total params: 25,728\n",
      "Trainable params: 25,728\n",
      "Non-trainable params: 0\n",
      "_________________________________________________________________\n"
     ]
    }
   ],
   "source": [
    "my_callbacks = [\n",
    "    # tf.keras.callbacks.ModelCheckpoint(filepath='model.{epoch:02d}-{val_loss:.2f}.h5'),\n",
    "    tf.keras.callbacks.TensorBoard(log_dir='./logs')\n",
    "]\n",
    "model.fit(x=train_triplet_generator, steps_per_epoch=train_n_batches,\n",
    "          validation_data=test_triplet_generator, validation_steps=test_n_batches,\n",
    "          epochs=TRAIN_EPOCHS, callbacks=my_callbacks)"
   ]
  },
  {
   "cell_type": "code",
   "execution_count": null,
   "metadata": {},
   "outputs": [],
   "source": []
  }
 ],
 "metadata": {
  "kernelspec": {
   "display_name": "Python 3",
   "language": "python",
   "name": "python3"
  },
  "language_info": {
   "codemirror_mode": {
    "name": "ipython",
    "version": 3
   },
   "file_extension": ".py",
   "mimetype": "text/x-python",
   "name": "python",
   "nbconvert_exporter": "python",
   "pygments_lexer": "ipython3",
   "version": "3.7.6"
  }
 },
 "nbformat": 4,
 "nbformat_minor": 4
}
