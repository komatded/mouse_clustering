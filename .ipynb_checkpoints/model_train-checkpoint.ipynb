{
 "cells": [
  {
   "cell_type": "code",
   "execution_count": 17,
   "metadata": {},
   "outputs": [],
   "source": [
    "from sklearn.model_selection import train_test_split\n",
    "from data_generator import TripletGenerator\n",
    "from model import create_model\n",
    "import pandas as pd\n",
    "import random\n",
    "\n",
    "MIN_MOUS_TRACK_LEN = 20\n",
    "N_USERS_TO_TRAIN = 1000\n",
    "EMBEDDING_SIZE = 128\n",
    "PAD_SIZE = 200\n",
    "POSITIVES_PER_ANCHOR = 10\n",
    "NEGATIVES_PER_ANCHOR = 10\n",
    "\n",
    "random.seed(420)"
   ]
  },
  {
   "cell_type": "code",
   "execution_count": null,
   "metadata": {},
   "outputs": [],
   "source": [
    "import tensorflow as tf\n",
    "tf.config.list_physical_devices('GPU')"
   ]
  },
  {
   "cell_type": "code",
   "execution_count": 28,
   "metadata": {},
   "outputs": [
    {
     "data": {
      "text/plain": [
       "(10941, 3)"
      ]
     },
     "execution_count": 28,
     "metadata": {},
     "output_type": "execute_result"
    }
   ],
   "source": [
    "df = pd.read_pickle('../sw-analysis/out/sw_139_data.pickle')\n",
    "df = df[df.mouse_track.apply(len) >= MIN_MOUS_TRACK_LEN]\n",
    "cookies = df.cookie.sample(n=N_USERS_TO_TRAIN, random_state=420)\n",
    "df = df[df.cookie.isin(cookies)]\n",
    "df.shape"
   ]
  },
  {
   "cell_type": "code",
   "execution_count": 29,
   "metadata": {},
   "outputs": [
    {
     "data": {
      "text/plain": [
       "(8752, 2189)"
      ]
     },
     "execution_count": 29,
     "metadata": {},
     "output_type": "execute_result"
    }
   ],
   "source": [
    "train_df, test_df = train_test_split(df, test_size=0.2, random_state=420)\n",
    "train_df.shape[0], test_df.shape[0]"
   ]
  },
  {
   "cell_type": "code",
   "execution_count": 30,
   "metadata": {},
   "outputs": [],
   "source": [
    "TG = TripletGenerator(pad_size=PAD_SIZE, \n",
    "                      positives_per_anchor=POSITIVES_PER_ANCHOR, \n",
    "                      negatives_per_anchor=NEGATIVES_PER_ANCHOR)\n",
    "\n",
    "train_triplet_generator, train_n_batches = TG.create_data_generator(train_df, batch_size=32)\n",
    "test_triplet_generator, test_n_batches = TG.create_data_generator(test_df, batch_size=32)"
   ]
  },
  {
   "cell_type": "code",
   "execution_count": null,
   "metadata": {},
   "outputs": [],
   "source": [
    "model = create_model(input_shape=(PAD_SIZE, 3), embedding_size=EMBEDDING_SIZE)\n",
    "model.fit(x=train_triplet_generator, steps_per_epoch=train_n_batches,\n",
    "          validation_data=test_triplet_generator, validation_steps=test_n_batches,\n",
    "          epochs=1)"
   ]
  },
  {
   "cell_type": "code",
   "execution_count": null,
   "metadata": {},
   "outputs": [],
   "source": []
  }
 ],
 "metadata": {
  "kernelspec": {
   "display_name": "Python 3",
   "language": "python",
   "name": "python3"
  },
  "language_info": {
   "codemirror_mode": {
    "name": "ipython",
    "version": 3
   },
   "file_extension": ".py",
   "mimetype": "text/x-python",
   "name": "python",
   "nbconvert_exporter": "python",
   "pygments_lexer": "ipython3",
   "version": "3.7.6"
  }
 },
 "nbformat": 4,
 "nbformat_minor": 4
}
